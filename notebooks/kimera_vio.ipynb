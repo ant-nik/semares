{
  "nbformat": 4,
  "nbformat_minor": 0,
  "metadata": {
    "colab": {
      "provenance": [],
      "authorship_tag": "ABX9TyPmOHA4KdC9T7uTLMGViC7I"
    },
    "kernelspec": {
      "name": "python3",
      "display_name": "Python 3"
    },
    "language_info": {
      "name": "python"
    }
  },
  "cells": [
    {
      "cell_type": "markdown",
      "source": [
        "# Visual odometry with Kimera package\n",
        "\n",
        "Experiments with Kimera-VIO project."
      ],
      "metadata": {
        "id": "uyfiI5UN1BdR"
      }
    },
    {
      "cell_type": "markdown",
      "source": [
        "## Kimera-VIO installation\n",
        "\n",
        "See\n",
        "\n",
        "0. Kimera home - https://github.com/MIT-SPARK/Kimera\n",
        "\n",
        "1. Kimera image preparation: https://github.com/MIT-SPARK/Kimera-VIO/blob/master/docs/kimera_vio_install.md\n",
        "\n",
        "2. Udocker for running containers in Colab - https://github.com/indigo-dc/udocker/blob/master/docs/installation_manual.md and https://gist.github.com/mwufi/6718b30761cd109f9aff04c5144eb885\n",
        "\n",
        "3. Test data origin - https://drive.google.com/drive/folders/1-B6V-4S_ZsCqjZY5muXNxV_dqbmdeAto\n",
        "\n",
        "4. Downloading files from Google Drive - https://colab.research.google.com/notebooks/io.ipynb\n",
        "\n",
        "5. Downloading files [from ydisk](https://ru.stackoverflow.com/questions/1088300/%D0%BA%D0%B0%D0%BA-%D1%81%D0%BA%D0%B0%D1%87%D0%B8%D0%B2%D0%B0%D1%82%D1%8C-%D1%84%D0%B0%D0%B9%D0%BB%D1%8B-%D1%81-%D1%8F%D0%BD%D0%B4%D0%B5%D0%BA%D1%81-%D0%B4%D0%B8%D1%81%D0%BA%D0%B0).\n",
        "\n",
        "6. Kimera evaluation - https://github.com/MIT-SPARK/Kimera-VIO-Evaluation\n",
        "\n",
        "7. X window Virtual Frame Buffer - https://packages.debian.org/bullseye/xvfb\n",
        "\n",
        "8. Python wrapper for Xvfb - https://github.com/ponty/PyVirtualDisplay\n",
        "\n",
        "9. Example of running something with display in colab - https://codeease.net/programming/python/how-to-run-tkinter-in-google-colab"
      ],
      "metadata": {
        "id": "w3CHyhsH6mR4"
      }
    },
    {
      "cell_type": "code",
      "source": [
        "!apt-get install -y xvfb\n",
        "!pip install pyvirtualdisplay\n",
        "!pip install pillow"
      ],
      "metadata": {
        "id": "etkCOFW_CeoS"
      },
      "execution_count": null,
      "outputs": []
    },
    {
      "cell_type": "code",
      "source": [
        "import os\n",
        "if not os.path.exists(\"/home/user\"):\n",
        "    !useradd -m user\n",
        "!pip install udocker\n",
        "!udocker --allow-root install"
      ],
      "metadata": {
        "id": "unfl1u80hC7d"
      },
      "execution_count": null,
      "outputs": []
    },
    {
      "cell_type": "markdown",
      "source": [
        "## Data downloading"
      ],
      "metadata": {
        "id": "wPWQN08C6yU-"
      }
    },
    {
      "cell_type": "code",
      "source": [
        "import requests\n",
        "from urllib.parse import urlencode\n",
        "\n",
        "\n",
        "def download(url: str, output: str):\n",
        "    base_url = \"https://cloud-api.yandex.net/v1/disk/public/resources/download?\"\n",
        "    final_url = base_url + urlencode(dict(public_key=url))\n",
        "    response = requests.get(final_url)\n",
        "    download_url = response.json()['href']\n",
        "\n",
        "    download_response = requests.get(download_url)\n",
        "    with open(output, \"wb\") as f:\n",
        "        f.write(download_response.content)"
      ],
      "metadata": {
        "id": "a8A_IMgA3-Ju"
      },
      "execution_count": null,
      "outputs": []
    },
    {
      "cell_type": "code",
      "source": [
        "download(url=\"https://disk.yandex.ru/d/Rd5d7BtgIFE3OQ\", output=\"mh01.zip.001\")\n",
        "download(url=\"https://disk.yandex.ru/d/J6ryB7H8v-u1Ig\", output=\"mh01.zip.002\")"
      ],
      "metadata": {
        "id": "P9JehpnYXDUV"
      },
      "execution_count": null,
      "outputs": []
    },
    {
      "cell_type": "code",
      "source": [
        "!cat mh01.zip.* > ./mh01.zip"
      ],
      "metadata": {
        "id": "33miO2x6rlUp"
      },
      "execution_count": null,
      "outputs": []
    },
    {
      "cell_type": "code",
      "source": [
        "!unzip -o ./mh01.zip > /dev/null"
      ],
      "metadata": {
        "id": "NJf4mMkTtXTX"
      },
      "execution_count": null,
      "outputs": []
    },
    {
      "cell_type": "code",
      "source": [
        "!su - user -c \"udocker pull docker.io/zaba247/kimera-vio\""
      ],
      "metadata": {
        "id": "XlhiBn0DhZ8B"
      },
      "execution_count": null,
      "outputs": []
    },
    {
      "cell_type": "code",
      "source": [
        "!su - user -c \"udocker create --force --name=kimera docker.io/zaba247/kimera-vio\""
      ],
      "metadata": {
        "id": "xEGdMXiIvxM2"
      },
      "execution_count": null,
      "outputs": []
    },
    {
      "cell_type": "code",
      "source": [
        "!if [ ! -d ./scripts ]; then mkdir ./scripts/; fi"
      ],
      "metadata": {
        "id": "5m4dX8Yg533T"
      },
      "execution_count": null,
      "outputs": []
    },
    {
      "cell_type": "code",
      "source": [
        "%%writefile ./scripts/run-inside-x.py\n",
        "from pyvirtualdisplay import Display\n",
        "import subprocess\n",
        "\n",
        "display = Display(visible=0, size=(800, 600))\n",
        "display.start()\n",
        "\n",
        "output = \"/output\"\n",
        "out = subprocess.run([\"/bin/bash\",\n",
        "                    \"/root/Kimera-VIO/scripts/stereoVIOEuroc.bash\",\n",
        "                    \"-p\", \"/\", \"-log\",\n",
        "                    ], text=True,\n",
        "                    capture_output=True)\n",
        "display.stop()\n",
        "print(\"================= stdout ===================\")\n",
        "print(out.stdout)\n",
        "with open(f\"{output}/stdout\", \"w\") as file:\n",
        "    file.write(out.stdout)\n",
        "print(\"================= stderr ===================\")\n",
        "print(out.stderr)\n",
        "with open(f\"{output}/stderr\", \"w\") as file:\n",
        "    file.write(out.stderr)"
      ],
      "metadata": {
        "id": "WrXMkMA2Qo4Z"
      },
      "execution_count": null,
      "outputs": []
    },
    {
      "cell_type": "code",
      "source": [
        "%%writefile ./scripts/stereoVIOEuroc.flags\n",
        "#!/bin/bash\n",
        "--log_output=true\n",
        "--backend_type=1\n",
        "--regular_vio_backend_modality=0\n",
        "--deterministic_random_number_generator=true\n",
        "\n",
        "# 2D Visualization\n",
        "--visualize_feature_predictions=false\n",
        "--visualize_feature_tracks=true\n",
        "\n",
        "# 3D Visualization\n",
        "--visualize=true\n",
        "--visualize_lmk_type=false\n",
        "--visualize_mesh=true\n",
        "--visualize_mesh_2d=false\n",
        "--visualize_mesh_with_colored_polygon_clusters=false\n",
        "--visualize_point_cloud=true\n",
        "--visualize_convex_hull=false\n",
        "--visualize_plane_constraints=false\n",
        "--visualize_planes=false\n",
        "--visualize_plane_label=false\n",
        "--visualize_semantic_mesh=false\n",
        "--visualize_mesh_in_frustum=false\n",
        "#--visualize_load_mesh_filename=/home/tonirv/datasets/euroc/V1_01_easy/mav0/pointcloud0/data.ply\n",
        "# Type of 3D Visualization:\n",
        "# 0: mesh 3d\n",
        "# 1: pointcloud\n",
        "# 2: none\n",
        "--viz_type=1\n",
        "--min_num_obs_for_mesher_points=3\n",
        "--extract_planes_from_the_scene=false\n",
        "\n",
        "# For displaying/saving Frontend images:\n",
        "--visualize_frontend_images=false\n",
        "--save_frontend_images=false\n",
        "--log_feature_tracks=false\n",
        "--log_mono_tracking_images=false\n",
        "--log_stereo_matching_images=false\n",
        "\n",
        "# output video from window\n",
        "--final_k=100\n",
        "--record_video_for_viz_3d=true\n",
        "\n",
        "--add_extra_lmks_from_stereo=true"
      ],
      "metadata": {
        "id": "Gapforev0wVh"
      },
      "execution_count": null,
      "outputs": []
    },
    {
      "cell_type": "code",
      "source": [
        "%%writefile ./scripts/run-inside-docker.sh\n",
        "apt-get update\n",
        "apt-get install -y python3 xvfb x11-xserver-utils zip\n",
        "pip install pyvirtualdisplay\n",
        "pip install pillow\n",
        "export DISPLAY=1\n",
        "export QT_X11_NO_MITSHM=1\n",
        "# changes options\n",
        "cp -v /scripts/stereoVIOEuroc.flags /root/Kimera-VIO/params/Euroc/flags/stereoVIOEuroc.flags\n",
        "python3 /scripts/run-inside-x.py\n",
        "zip -r /output/kimera.zip /root/Kimera-VIO/"
      ],
      "metadata": {
        "id": "BV7MfdfFPrZl"
      },
      "execution_count": null,
      "outputs": []
    },
    {
      "cell_type": "code",
      "source": [
        "!chmod +x ./scripts/run.sh ./scripts/run-inside-docker.sh\n",
        "!if [ -d ./output ]; then rm -R ./output; fi\n",
        "!mkdir ./output\n",
        "!chmod 777 ./output\n",
        "!ls -l ./"
      ],
      "metadata": {
        "id": "nAYMto5boCYU"
      },
      "execution_count": null,
      "outputs": []
    },
    {
      "cell_type": "code",
      "source": [
        "!su - user -c \"udocker --allow-root run -v '\"`pwd`\"/output:/output' kimera ls -l /root/Kimera-VIO/\""
      ],
      "metadata": {
        "id": "jEWgVK5afkIE"
      },
      "execution_count": null,
      "outputs": []
    },
    {
      "cell_type": "code",
      "source": [
        "!su - user -c \"udocker --allow-root run -v '\"`pwd`\"/output:/output' -v '\"`pwd`\"/scripts/:/scripts' -v '\"`pwd`\"/MH_01_easy/mav0:/mav0' kimera /scripts/run-inside-docker.sh\""
      ],
      "metadata": {
        "id": "fYinmHkJR9oV"
      },
      "execution_count": null,
      "outputs": []
    },
    {
      "cell_type": "code",
      "source": [
        "!su - user -c \"udocker --allow-root run kimera /root/Kimera-VIO/build/stereoVIOEuroc --help\""
      ],
      "metadata": {
        "id": "cUZ8BgxqOAh_"
      },
      "execution_count": null,
      "outputs": []
    }
  ]
}