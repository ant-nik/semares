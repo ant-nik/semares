{
  "nbformat": 4,
  "nbformat_minor": 0,
  "metadata": {
    "colab": {
      "provenance": [],
      "authorship_tag": "ABX9TyP/UUrVHgsfQcGfxnfDf+Hh"
    },
    "kernelspec": {
      "name": "python3",
      "display_name": "Python 3"
    },
    "language_info": {
      "name": "python"
    }
  },
  "cells": [
    {
      "cell_type": "markdown",
      "source": [
        "# Visual odometry with Kimera package"
      ],
      "metadata": {
        "id": "uyfiI5UN1BdR"
      }
    },
    {
      "cell_type": "markdown",
      "source": [
        "## Kimera-VIO installation\n",
        "\n",
        "See\n",
        "\n",
        "0. Kimera home - https://github.com/MIT-SPARK/Kimera\n",
        "\n",
        "1. Kimera image preparation: https://github.com/MIT-SPARK/Kimera-VIO/blob/master/docs/kimera_vio_install.md\n",
        "\n",
        "2. Udocker for running containers in Colab - https://github.com/indigo-dc/udocker/blob/master/docs/installation_manual.md and https://gist.github.com/mwufi/6718b30761cd109f9aff04c5144eb885\n",
        "\n",
        "3. Test data origin - https://drive.google.com/drive/folders/1-B6V-4S_ZsCqjZY5muXNxV_dqbmdeAto\n",
        "\n",
        "4. Downloading files from Google Drive - https://colab.research.google.com/notebooks/io.ipynb\n",
        "\n",
        "5. Downloading files [from ydisk](https://ru.stackoverflow.com/questions/1088300/%D0%BA%D0%B0%D0%BA-%D1%81%D0%BA%D0%B0%D1%87%D0%B8%D0%B2%D0%B0%D1%82%D1%8C-%D1%84%D0%B0%D0%B9%D0%BB%D1%8B-%D1%81-%D1%8F%D0%BD%D0%B4%D0%B5%D0%BA%D1%81-%D0%B4%D0%B8%D1%81%D0%BA%D0%B0)."
      ],
      "metadata": {
        "id": "w3CHyhsH6mR4"
      }
    },
    {
      "cell_type": "code",
      "source": [
        "# !udocker --allow-root run docker.io/zaba247/kimera-vio ls # run -p 127.0.0.1:8081:8081 docker.io/zaba247/kimera-vio:latest ls"
      ],
      "metadata": {
        "id": "CcRqf-8yVhoF"
      },
      "execution_count": null,
      "outputs": []
    },
    {
      "cell_type": "code",
      "source": [
        "import os\n",
        "if not os.path.exists(\"/home/user\"):\n",
        "    !useradd -m user\n",
        "!pip install udocker\n",
        "!udocker --allow-root install"
      ],
      "metadata": {
        "id": "unfl1u80hC7d"
      },
      "execution_count": null,
      "outputs": []
    },
    {
      "cell_type": "code",
      "source": [
        "import requests\n",
        "from urllib.parse import urlencode\n",
        "\n",
        "\n",
        "def download(url: str, output: str):\n",
        "    base_url = \"https://cloud-api.yandex.net/v1/disk/public/resources/download?\"\n",
        "    final_url = base_url + urlencode(dict(public_key=url))\n",
        "    response = requests.get(final_url)\n",
        "    download_url = response.json()['href']\n",
        "\n",
        "    download_response = requests.get(download_url)\n",
        "    with open(output, \"wb\") as f:\n",
        "        f.write(download_response.content)"
      ],
      "metadata": {
        "id": "a8A_IMgA3-Ju"
      },
      "execution_count": null,
      "outputs": []
    },
    {
      "cell_type": "code",
      "source": [
        "download(url=\"https://disk.yandex.ru/d/Rd5d7BtgIFE3OQ\", output=\"mh01.zip.001\")\n",
        "download(url=\"https://disk.yandex.ru/d/J6ryB7H8v-u1Ig\", output=\"mh01.zip.002\")"
      ],
      "metadata": {
        "id": "P9JehpnYXDUV"
      },
      "execution_count": null,
      "outputs": []
    },
    {
      "cell_type": "code",
      "source": [
        "!cat mh01.zip.* > ./mh01.zip"
      ],
      "metadata": {
        "id": "33miO2x6rlUp"
      },
      "execution_count": null,
      "outputs": []
    },
    {
      "cell_type": "code",
      "source": [
        "!unzip -o ./mh01.zip > /dev/null"
      ],
      "metadata": {
        "id": "NJf4mMkTtXTX"
      },
      "execution_count": null,
      "outputs": []
    },
    {
      "cell_type": "code",
      "source": [
        "!su - user -c \"udocker pull docker.io/zaba247/kimera-vio\""
      ],
      "metadata": {
        "id": "XlhiBn0DhZ8B"
      },
      "execution_count": null,
      "outputs": []
    },
    {
      "cell_type": "code",
      "source": [
        "# !su - user -c \"udocker create --help\""
      ],
      "metadata": {
        "id": "fd_a8-no7wSi"
      },
      "execution_count": null,
      "outputs": []
    },
    {
      "cell_type": "code",
      "source": [
        "!su - user -c \"udocker create --force --name=kimera docker.io/zaba247/kimera-vio\""
      ],
      "metadata": {
        "id": "xEGdMXiIvxM2"
      },
      "execution_count": null,
      "outputs": []
    },
    {
      "cell_type": "code",
      "source": [
        "# !git clone https://github.com/MIT-SPARK/Kimera-VIO.git"
      ],
      "metadata": {
        "id": "4MEnYHys4izV"
      },
      "execution_count": null,
      "outputs": []
    },
    {
      "cell_type": "code",
      "source": [
        "# !mkdir ./scripts/"
      ],
      "metadata": {
        "id": "5m4dX8Yg533T"
      },
      "execution_count": null,
      "outputs": []
    },
    {
      "cell_type": "code",
      "source": [
        "!su - user -c \"udocker --allow-root run -v '\"`pwd`\"/scripts/:/scripts' -v '\"`pwd`\"/Kimera-VIO/:/kimera-vio' -v '\"`pwd`\"/MH_01_easy/mav0:/mav0' kimera /root/Kimera-VIO/scripts/stereoVIOEuroc.bash\""
      ],
      "metadata": {
        "id": "mbAl70BMvzdG"
      },
      "execution_count": null,
      "outputs": []
    },
    {
      "cell_type": "markdown",
      "source": [
        "## Building Kimera from source (deprecated)"
      ],
      "metadata": {
        "id": "lO_KljzKXO4I"
      }
    },
    {
      "cell_type": "code",
      "source": [
        "raise SystemExit(\"Stop right there!\")"
      ],
      "metadata": {
        "id": "Edqea9jEGNGW"
      },
      "execution_count": null,
      "outputs": []
    },
    {
      "cell_type": "code",
      "source": [
        "!sudo apt-get update\n",
        "!sudo apt-get install -y --no-install-recommends apt-utils\n",
        "!sudo apt-get install -y cmake\n",
        "!sudo apt-get install -y libboost-all-dev"
      ],
      "metadata": {
        "id": "rQUWLLkD1C-3"
      },
      "execution_count": null,
      "outputs": []
    },
    {
      "cell_type": "code",
      "source": [
        "!sudo apt-get install -y \\\n",
        "      build-essential unzip pkg-config \\\n",
        "      libjpeg-dev libpng-dev libtiff-dev \\\n",
        "      libvtk7-dev \\\n",
        "      libgtk-3-dev \\\n",
        "      libparmetis-dev \\\n",
        "      libatlas-base-dev gfortran"
      ],
      "metadata": {
        "id": "eADrIvQb2P_T"
      },
      "execution_count": null,
      "outputs": []
    },
    {
      "cell_type": "code",
      "source": [
        "!sudo apt-get install libtbb-dev"
      ],
      "metadata": {
        "id": "UW1YwAKi2avJ"
      },
      "execution_count": null,
      "outputs": []
    },
    {
      "cell_type": "code",
      "source": [
        "!git clone https://github.com/borglab/gtsam.git"
      ],
      "metadata": {
        "id": "oY_R4LpF2ezh"
      },
      "execution_count": null,
      "outputs": []
    },
    {
      "cell_type": "code",
      "source": [
        "!cd gtsam && git checkout 4.2 && mkdir build && cd build && cmake -DCMAKE_INSTALL_PREFIX=/usr/local -DCMAKE_BUILD_TYPE=Release -DGTSAM_USE_SYSTEM_EIGEN=ON -DGTSAM_POSE3_EXPMAP=ON -DGTSAM_ROT3_EXPMAP=ON -DGTSAM_TANGENT_PREINTEGRATION=OFF .."
      ],
      "metadata": {
        "id": "sgo8V13G2w14"
      },
      "execution_count": null,
      "outputs": []
    },
    {
      "cell_type": "code",
      "source": [
        "!cd gtsam/build && make -j $(nproc) check && sudo make -j $(nproc) install"
      ],
      "metadata": {
        "id": "yo9Z8Yko3TpU"
      },
      "execution_count": null,
      "outputs": []
    },
    {
      "cell_type": "markdown",
      "source": [
        "## Downloading files from camera"
      ],
      "metadata": {
        "id": "KZAUiKK31CeW"
      }
    },
    {
      "cell_type": "code",
      "source": [
        "file_id = \"1BgTnHHsRwYFGRBRVxW_bj1pr0or62YOX\"\n",
        "\n",
        "import io\n",
        "from googleapiclient.http import MediaIoBaseDownload\n",
        "\n",
        "request = drive_service.files().get_media(fileId=file_id)\n",
        "downloaded = io.BytesIO()\n",
        "downloader = MediaIoBaseDownload(downloaded, request)\n",
        "done = False\n",
        "while done is False:\n",
        "  # _ is a placeholder for a progress object that we ignore.\n",
        "  # (Our file is small, so we skip reporting progress.)\n",
        "  _, done = downloader.next_chunk()\n",
        "\n",
        "downloaded.seek(0)\n",
        "print('Downloaded file contents are: {}'.format(downloaded.read()))"
      ],
      "metadata": {
        "id": "5sv1n28PvpBc"
      },
      "execution_count": null,
      "outputs": []
    },
    {
      "cell_type": "code",
      "source": [
        "from google.colab import auth\n",
        "auth.authenticate_user()\n",
        "from googleapiclient.discovery import build\n",
        "drive_service = build('drive', 'v3')"
      ],
      "metadata": {
        "id": "LA5zGyAIrb3j"
      },
      "execution_count": null,
      "outputs": []
    },
    {
      "cell_type": "code",
      "source": [],
      "metadata": {
        "id": "hfkBfV_hyw5k"
      },
      "execution_count": null,
      "outputs": []
    }
  ]
}