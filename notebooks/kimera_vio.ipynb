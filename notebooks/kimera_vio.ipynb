{
  "nbformat": 4,
  "nbformat_minor": 0,
  "metadata": {
    "colab": {
      "provenance": [],
      "authorship_tag": "ABX9TyMAg954DOTVaFXgT5v0pn2F"
    },
    "kernelspec": {
      "name": "python3",
      "display_name": "Python 3"
    },
    "language_info": {
      "name": "python"
    }
  },
  "cells": [
    {
      "cell_type": "markdown",
      "source": [
        "# Visual odometry with Kimera package"
      ],
      "metadata": {
        "id": "uyfiI5UN1BdR"
      }
    },
    {
      "cell_type": "markdown",
      "source": [
        "## Kimera-VIO installation\n",
        "\n",
        "See\n",
        "\n",
        "0. Kimera home - https://github.com/MIT-SPARK/Kimera\n",
        "\n",
        "1. Kimera image preparation: https://github.com/MIT-SPARK/Kimera-VIO/blob/master/docs/kimera_vio_install.md\n",
        "\n",
        "2. Udocker for running containers in Colab - https://github.com/indigo-dc/udocker/blob/master/docs/installation_manual.md and https://gist.github.com/mwufi/6718b30761cd109f9aff04c5144eb885\n",
        "\n",
        "3. Test data - https://drive.google.com/drive/folders/1-B6V-4S_ZsCqjZY5muXNxV_dqbmdeAto\n",
        "\n",
        "4. Loading from Google Drive - https://colab.research.google.com/notebooks/io.ipynb"
      ],
      "metadata": {
        "id": "w3CHyhsH6mR4"
      }
    },
    {
      "cell_type": "code",
      "source": [
        "!pip install udocker"
      ],
      "metadata": {
        "id": "I_kTe0uKQHFU"
      },
      "execution_count": null,
      "outputs": []
    },
    {
      "cell_type": "code",
      "source": [
        "!udocker --allow-root install"
      ],
      "metadata": {
        "id": "Sycw-SemVu3e"
      },
      "execution_count": null,
      "outputs": []
    },
    {
      "cell_type": "code",
      "source": [
        "!udocker --allow-root pull zaba247/kemera-vio"
      ],
      "metadata": {
        "id": "cPFQcMAGXHGc"
      },
      "execution_count": null,
      "outputs": []
    },
    {
      "cell_type": "code",
      "source": [
        "!udocker --allow-root run zaba247/kimera-vio # run -p 127.0.0.1:8081:8081 docker.io/zaba247/kimera-vio:latest ls"
      ],
      "metadata": {
        "id": "CcRqf-8yVhoF"
      },
      "execution_count": null,
      "outputs": []
    },
    {
      "cell_type": "markdown",
      "source": [
        "## Building Kimera from source"
      ],
      "metadata": {
        "id": "lO_KljzKXO4I"
      }
    },
    {
      "cell_type": "code",
      "source": [
        "!sudo apt-get update\n",
        "!sudo apt-get install -y --no-install-recommends apt-utils\n",
        "!sudo apt-get install -y cmake\n",
        "!sudo apt-get install -y libboost-all-dev"
      ],
      "metadata": {
        "id": "rQUWLLkD1C-3"
      },
      "execution_count": null,
      "outputs": []
    },
    {
      "cell_type": "code",
      "source": [
        "!sudo apt-get install -y \\\n",
        "      build-essential unzip pkg-config \\\n",
        "      libjpeg-dev libpng-dev libtiff-dev \\\n",
        "      libvtk7-dev \\\n",
        "      libgtk-3-dev \\\n",
        "      libparmetis-dev \\\n",
        "      libatlas-base-dev gfortran"
      ],
      "metadata": {
        "id": "eADrIvQb2P_T"
      },
      "execution_count": null,
      "outputs": []
    },
    {
      "cell_type": "code",
      "source": [
        "!sudo apt-get install libtbb-dev"
      ],
      "metadata": {
        "id": "UW1YwAKi2avJ"
      },
      "execution_count": null,
      "outputs": []
    },
    {
      "cell_type": "code",
      "source": [
        "!git clone https://github.com/borglab/gtsam.git"
      ],
      "metadata": {
        "id": "oY_R4LpF2ezh"
      },
      "execution_count": null,
      "outputs": []
    },
    {
      "cell_type": "code",
      "source": [
        "!cd gtsam && git checkout 4.2 && mkdir build && cd build && cmake -DCMAKE_INSTALL_PREFIX=/usr/local -DCMAKE_BUILD_TYPE=Release -DGTSAM_USE_SYSTEM_EIGEN=ON -DGTSAM_POSE3_EXPMAP=ON -DGTSAM_ROT3_EXPMAP=ON -DGTSAM_TANGENT_PREINTEGRATION=OFF .."
      ],
      "metadata": {
        "id": "sgo8V13G2w14"
      },
      "execution_count": null,
      "outputs": []
    },
    {
      "cell_type": "code",
      "source": [
        "!cd gtsam/build && make -j $(nproc) check && sudo make -j $(nproc) install"
      ],
      "metadata": {
        "id": "yo9Z8Yko3TpU"
      },
      "execution_count": null,
      "outputs": []
    },
    {
      "cell_type": "markdown",
      "source": [
        "## Downloading files from camera"
      ],
      "metadata": {
        "id": "KZAUiKK31CeW"
      }
    },
    {
      "cell_type": "code",
      "source": [
        "from google.colab import auth\n",
        "auth.authenticate_user()\n",
        "from googleapiclient.discovery import build\n",
        "drive_service = build('drive', 'v3')"
      ],
      "metadata": {
        "id": "LA5zGyAIrb3j"
      },
      "execution_count": null,
      "outputs": []
    },
    {
      "cell_type": "code",
      "source": [
        "file_id = \"1BgTnHHsRwYFGRBRVxW_bj1pr0or62YOX\"\n",
        "\n",
        "import io\n",
        "from googleapiclient.http import MediaIoBaseDownload\n",
        "\n",
        "request = drive_service.files().get_media(fileId=file_id)\n",
        "downloaded = io.BytesIO()\n",
        "downloader = MediaIoBaseDownload(downloaded, request)\n",
        "done = False\n",
        "while done is False:\n",
        "  # _ is a placeholder for a progress object that we ignore.\n",
        "  # (Our file is small, so we skip reporting progress.)\n",
        "  _, done = downloader.next_chunk()\n",
        "\n",
        "downloaded.seek(0)\n",
        "print('Downloaded file contents are: {}'.format(downloaded.read()))"
      ],
      "metadata": {
        "id": "5sv1n28PvpBc"
      },
      "execution_count": null,
      "outputs": []
    },
    {
      "cell_type": "code",
      "source": [],
      "metadata": {
        "id": "hfkBfV_hyw5k"
      },
      "execution_count": null,
      "outputs": []
    }
  ]
}