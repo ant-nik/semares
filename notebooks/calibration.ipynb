{
  "cells": [
    {
      "cell_type": "markdown",
      "id": "8339f92b-cf1d-4bab-a80b-cf467cbe9ba0",
      "metadata": {
        "id": "8339f92b-cf1d-4bab-a80b-cf467cbe9ba0"
      },
      "source": [
        "# Camera calibration"
      ]
    },
    {
      "cell_type": "markdown",
      "id": "6468cf32-7430-49eb-8576-1f798ef0c846",
      "metadata": {
        "id": "6468cf32-7430-49eb-8576-1f798ef0c846"
      },
      "source": [
        "Notebook is based on tutorial by OpenCV project (https://docs.opencv.org/4.x/dc/dbb/tutorial_py_calibration.html)"
      ]
    },
    {
      "cell_type": "code",
      "execution_count": null,
      "id": "5a3183f6-5757-4586-b0bc-0c2bf0e51bd0",
      "metadata": {
        "id": "5a3183f6-5757-4586-b0bc-0c2bf0e51bd0"
      },
      "outputs": [],
      "source": [
        "!wget -O samples.csv https://raw.githubusercontent.com/ant-nik/semares/master/data/camera-calibration-std/position.csv"
      ]
    },
    {
      "cell_type": "code",
      "source": [
        "import cv2\n",
        "import logging\n",
        "import io\n",
        "import numpy\n",
        "\n",
        "\n",
        "logger = logging.getLogger(__name__)\n",
        "# termination criteria\n",
        "criteria = (cv2.TERM_CRITERIA_EPS + cv2.TERM_CRITERIA_MAX_ITER, 30, 0.001)\n",
        "\n",
        "\n",
        "def get_chess_corners_from_image(\n",
        "        data: bytes, corners_x: int, corners_y: int) -> tuple[any, any]:\n",
        "    # img = cv2.imread(fname)\n",
        "    np_image = numpy.frombuffer(data, numpy.uint8)\n",
        "    img = cv2.imdecode(np_image, cv2.IMREAD_COLOR)\n",
        "    img = cv2.cvtColor(img, cv2.COLOR_RGB2BGR)\n",
        "    gray = cv2.cvtColor(img, cv2.COLOR_BGR2GRAY)\n",
        "\n",
        "    # Find the chess board corners\n",
        "    ret, corners = cv2.findChessboardCorners(gray, (corners_x, corners_y), None)\n",
        "\n",
        "    # If found, add object points, image points (after refining them)\n",
        "    if ret != True:\n",
        "        logger.error(\"Error, grid (%d, %d) is not found in image\",\n",
        "                     corners_x, corners_y)\n",
        "        return None, gray\n",
        "\n",
        "    corners2 = cv2.cornerSubPix(gray, corners, (11, 11), (-1,-1), criteria)\n",
        "    result_image = cv2.drawChessboardCorners(img, (7,7), corners, True)\n",
        "    return corners2, result_image"
      ],
      "metadata": {
        "id": "8cpIb1CoYF0Q"
      },
      "id": "8cpIb1CoYF0Q",
      "execution_count": null,
      "outputs": []
    },
    {
      "cell_type": "code",
      "source": [
        "import plotly.express as plte\n",
        "import requests\n",
        "import logging\n",
        "import pandas\n",
        "import dataclasses\n",
        "\n",
        "\n",
        "@dataclasses.dataclass\n",
        "class Grid:\n",
        "    name: str\n",
        "    url: str\n",
        "    corners_x: int\n",
        "    corners_y: int\n",
        "    corners: any\n",
        "    image: any\n",
        "    obj_points: any = None\n",
        "    rvec: numpy.ndarray = None\n",
        "    tvec: numpy.ndarray = None\n",
        "\n",
        "\n",
        "logger = logging.getLogger(__name__)\n",
        "base_url = \"https://raw.githubusercontent.com/ant-nik/semares/master/data/camera-calibration-std/{}\"\n",
        "\n",
        "# set to None if all items are aceptable\n",
        "acepted_items = [\n",
        "    'image1_r.jpg',\n",
        "    'image1_l.jpg',\n",
        "    'image24_l.jpg',\n",
        "    'image29_r.jpg',\n",
        "    'image31_r.jpg',\n",
        "    'image36_r.jpg',\n",
        "    'image36_l.jpg'\n",
        "]\n",
        "\n",
        "sample_dataframe = pandas.read_csv('samples.csv', sep=',')\n",
        "samples: list[Grid] = []\n",
        "for index, item in sample_dataframe.iterrows():\n",
        "    if acepted_items is not None and not item[\"image\"] in acepted_items:\n",
        "        continue\n",
        "    url = base_url.format(item[\"image\"])\n",
        "    response = requests.get(url)\n",
        "    if response.status_code != 200:\n",
        "        logger.error(\"Can't read image %s from url %s\", item[\"image\"], url)\n",
        "    # Draw and display the corners\n",
        "    corners, image = get_chess_corners_from_image(\n",
        "        data=response.content,\n",
        "        corners_x=item[\"corners_x\"],\n",
        "        corners_y=item[\"corners_y\"])\n",
        "    if corners is None:\n",
        "        logger.error(\"Can't find %d, %d conrenrs in %s\",\n",
        "                     item[\"corners_x\"], item[\"corners_y\"], item[\"image\"])\n",
        "    grid = Grid(\n",
        "        name=item[\"image\"],\n",
        "        url=url,\n",
        "        corners_x=item[\"corners_x\"],\n",
        "        corners_y=item[\"corners_y\"],\n",
        "        corners=corners,\n",
        "        image=image\n",
        "    )\n",
        "    samples.append(grid)"
      ],
      "metadata": {
        "id": "A-bXJHcUVF8R"
      },
      "id": "A-bXJHcUVF8R",
      "execution_count": null,
      "outputs": []
    },
    {
      "cell_type": "code",
      "source": [
        "import logging\n",
        "\n",
        "\n",
        "logger = logging.getLogger(__name__)\n",
        "obj_points = []\n",
        "img_points = []\n",
        "objects = []\n",
        "shapes = None\n",
        "for sample in samples:\n",
        "    if sample.corners is None:\n",
        "        continue\n",
        "\n",
        "    objp = numpy.zeros((sample.corners_x*sample.corners_y,3), numpy.float32)\n",
        "    objp[:,:2] = numpy.mgrid[0:sample.corners_x,0:sample.corners_y].T.reshape(\n",
        "        -1, 2)\n",
        "    objp = objp\n",
        "    img_shape = (sample.image.shape[1], sample.image.shape[0])\n",
        "    if not shapes is None and shapes != img_shape:\n",
        "        logger.error(\n",
        "            \"Image %s has specific shape %s that is not equals to previously shapes: %s\",\n",
        "            sample.name, str(img_shape), str(shapes)\n",
        "            )\n",
        "        continue\n",
        "    if shapes is None:\n",
        "        shapes = img_shape\n",
        "    sample.obj_points = objp\n",
        "    obj_points.append(objp)\n",
        "    img_points.append(sample.corners)\n",
        "    objects.append(sample)\n",
        "\n",
        "ret, mtx, dist, rvecs, tvecs = cv2.calibrateCamera(\n",
        "    obj_points, img_points, shapes, None, None)\n",
        "for i in range(0, len(objects)):\n",
        "    objects[i].rvec = rvecs[i]\n",
        "    objects[i].tvec = tvecs[i]\n",
        "ret, mtx, dist"
      ],
      "metadata": {
        "id": "1X1j9pP1Xnt3"
      },
      "id": "1X1j9pP1Xnt3",
      "execution_count": null,
      "outputs": []
    },
    {
      "cell_type": "code",
      "source": [
        "w = shapes[0]\n",
        "h = shapes[1]\n",
        "newcameramtx, roi = cv2.getOptimalNewCameraMatrix(mtx, dist, (w,h), 1, (w,h))\n",
        "(roi, newcameramtx)"
      ],
      "metadata": {
        "id": "2Mj2W9YiIuDX"
      },
      "id": "2Mj2W9YiIuDX",
      "execution_count": null,
      "outputs": []
    },
    {
      "cell_type": "code",
      "source": [
        "import logging\n",
        "\n",
        "\n",
        "logger = logging.getLogger(__name__)\n",
        "names = []\n",
        "error_threshold = 0.15\n",
        "axis = numpy.float32([[3,0,0], [0,3,0], [0,0,-3]]).reshape(-1,3)\n",
        "color = [(255, 0, 0), (0, 255, 0), (0, 0, 255)]\n",
        "\n",
        "for sample in samples:\n",
        "    if sample.corners is None:\n",
        "        fig = plte.imshow(sample.image, title=sample.name)\n",
        "        fig.show()\n",
        "        logger.warning(\"Image %s has no detected chessboard corners, skipping...\",\n",
        "                       sample.name)\n",
        "        continue\n",
        "    dst = cv2.undistort(sample.image, mtx, dist, None, newcameramtx)\n",
        "    # crop the image\n",
        "    x, y, w, h = roi\n",
        "    dst = dst[y:y + h, x:x + w]\n",
        "    imgpoints, _ = cv2.projectPoints(\n",
        "        sample.obj_points, sample.rvec, sample.tvec, mtx, dist)\n",
        "    error = cv2.norm(sample.corners, imgpoints, cv2.NORM_L2)/len(imgpoints)\n",
        "    if error < error_threshold:\n",
        "        names.append(sample.name)\n",
        "    axis2d, jac = cv2.projectPoints(axis, sample.rvec, sample.tvec, mtx, dist)\n",
        "    origin = tuple([int(v) for v in sample.corners[0].ravel()])\n",
        "    for i in range(0, 3):\n",
        "        dst = cv2.line(dst, origin, tuple(\n",
        "            [int(v) for v in axis2d[i].ravel()]), color[i], 5)\n",
        "    fig = plte.imshow(\n",
        "        dst, #sample.image,\n",
        "        title=f\"image {sample.name},crop[x,y,w,h]={roi},error={error}\")\n",
        "    fig.show()\n"
      ],
      "metadata": {
        "id": "NZHfpvEaDT8x"
      },
      "id": "NZHfpvEaDT8x",
      "execution_count": null,
      "outputs": []
    },
    {
      "cell_type": "code",
      "source": [
        "origin"
      ],
      "metadata": {
        "id": "-fxMg0X8Wf0R"
      },
      "id": "-fxMg0X8Wf0R",
      "execution_count": null,
      "outputs": []
    },
    {
      "cell_type": "code",
      "source": [],
      "metadata": {
        "id": "CaU_4uVA8uy2"
      },
      "id": "CaU_4uVA8uy2",
      "execution_count": null,
      "outputs": []
    }
  ],
  "metadata": {
    "kernelspec": {
      "display_name": "Python 3 (ipykernel)",
      "language": "python",
      "name": "python3"
    },
    "language_info": {
      "codemirror_mode": {
        "name": "ipython",
        "version": 3
      },
      "file_extension": ".py",
      "mimetype": "text/x-python",
      "name": "python",
      "nbconvert_exporter": "python",
      "pygments_lexer": "ipython3",
      "version": "3.11.1"
    },
    "colab": {
      "provenance": []
    }
  },
  "nbformat": 4,
  "nbformat_minor": 5
}