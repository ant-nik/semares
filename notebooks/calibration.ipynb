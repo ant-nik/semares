{
 "cells": [
  {
   "cell_type": "markdown",
   "id": "8339f92b-cf1d-4bab-a80b-cf467cbe9ba0",
   "metadata": {},
   "source": [
    "# Camera calibration"
   ]
  },
  {
   "cell_type": "markdown",
   "id": "6468cf32-7430-49eb-8576-1f798ef0c846",
   "metadata": {},
   "source": [
    "Based on tutorial from OpenCV (https://docs.opencv.org/4.x/dc/dbb/tutorial_py_calibration.html)"
   ]
  },
  {
   "cell_type": "code",
   "execution_count": null,
   "id": "5a3183f6-5757-4586-b0bc-0c2bf0e51bd0",
   "metadata": {},
   "outputs": [],
   "source": []
  }
 ],
 "metadata": {
  "kernelspec": {
   "display_name": "Python 3 (ipykernel)",
   "language": "python",
   "name": "python3"
  },
  "language_info": {
   "codemirror_mode": {
    "name": "ipython",
    "version": 3
   },
   "file_extension": ".py",
   "mimetype": "text/x-python",
   "name": "python",
   "nbconvert_exporter": "python",
   "pygments_lexer": "ipython3",
   "version": "3.11.1"
  }
 },
 "nbformat": 4,
 "nbformat_minor": 5
}
